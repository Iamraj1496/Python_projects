{
 "cells": [
  {
   "cell_type": "code",
   "execution_count": 19,
   "metadata": {},
   "outputs": [],
   "source": [
    "import csv\n",
    "import pytube  \n",
    "from pytube import YouTube\n",
    "import smtplib\n",
    "from email.message import EmailMessage"
   ]
  },
  {
   "cell_type": "code",
   "execution_count": 16,
   "metadata": {},
   "outputs": [
    {
     "name": "stdout",
     "output_type": "stream",
     "text": [
      "['thy*****@gmail.com', 'raj******@gmail.com', 'raj***@gmail.com', 'thy++++++1220@gmail,com']\n"
     ]
    }
   ],
   "source": [
    "#opening the excel file\n",
    "#pop() is used for remove the headings\n",
    "urls= []\n",
    "mailid = []\n",
    "with open('Mailid.csv', 'r') as file:\n",
    "    reader = csv.reader(file)\n",
    "    for row in reader:\n",
    "        mailid.append(row[1])\n",
    "        urls.append(row[2])\n",
    "    mailid.pop(0)\n",
    "    urls.pop(0)\n",
    "print(mailid)"
   ]
  },
  {
   "cell_type": "code",
   "execution_count": 17,
   "metadata": {},
   "outputs": [
    {
     "name": "stdout",
     "output_type": "stream",
     "text": [
      "['https://youtu.be/gaUhxQtNOwM', 'https://youtu.be/sZrT4aVjVDA', 'https://youtu.be/zhWDdy_5v2w', 'https://youtu.be/XALBGkjkUPQ']\n"
     ]
    }
   ],
   "source": [
    "print(urls)"
   ]
  },
  {
   "cell_type": "code",
   "execution_count": 11,
   "metadata": {},
   "outputs": [],
   "source": [
    "def video_download():\n",
    "    if len(urls) !=0:\n",
    "        for url in urls:\n",
    "            YouTube(url).streams.first().download().description\n",
    "    else:\n",
    "        print(\"Enter The Valid Link\")"
   ]
  },
  {
   "cell_type": "code",
   "execution_count": 40,
   "metadata": {},
   "outputs": [
    {
     "name": "stdout",
     "output_type": "stream",
     "text": [
      "This is Hummingbird Heaven | United States of Animals\n",
      "ALL NEW 2022 SUZUKI SWIFT\n",
      "What Happens In One Minute?\n",
      "Imagine for 1 Minute\n"
     ]
    }
   ],
   "source": [
    "for url in urls:\n",
    "        youtube = YouTube(url)  \n",
    "        print(youtube.title)"
   ]
  },
  {
   "cell_type": "code",
   "execution_count": 41,
   "metadata": {},
   "outputs": [],
   "source": [
    "msg= EmailMessage()\n",
    "msg['Subject']= \"Video Download result\"\n",
    "msg['From']= \"raj0appu@gmail.com\"\n",
    "msg['To']= mailid\n",
    "msg.set_content(\" You Downloded the Video successfully\")"
   ]
  },
  {
   "cell_type": "code",
   "execution_count": 42,
   "metadata": {},
   "outputs": [],
   "source": [
    "## Connecting to Gmail Server\n",
    "\n",
    "mail_id= r\"raj*****@gmail.com\"\n",
    "Password= r\"88888888888\"\n",
    "\n",
    "\n",
    "with smtplib.SMTP_SSL('smtp.gmail.com', 465) as server:\n",
    "    server.login(mail_id, Password)\n",
    "    server.send_message(msg)\n"
   ]
  }
 ],
 "metadata": {
  "kernelspec": {
   "display_name": "Python 3",
   "language": "python",
   "name": "python3"
  },
  "language_info": {
   "codemirror_mode": {
    "name": "ipython",
    "version": 3
   },
   "file_extension": ".py",
   "mimetype": "text/x-python",
   "name": "python",
   "nbconvert_exporter": "python",
   "pygments_lexer": "ipython3",
   "version": "3.7.0"
  }
 },
 "nbformat": 4,
 "nbformat_minor": 2
}
